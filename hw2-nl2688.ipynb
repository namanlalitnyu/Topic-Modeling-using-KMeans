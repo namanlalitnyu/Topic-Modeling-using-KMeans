{
 "cells": [
  {
   "cell_type": "markdown",
   "metadata": {},
   "source": [
    "# Task - Topic Modeling\n",
    "\n",
    "#### Part 1 - Data Cleaning"
   ]
  },
  {
   "cell_type": "code",
   "execution_count": 99,
   "metadata": {},
   "outputs": [
    {
     "name": "stderr",
     "output_type": "stream",
     "text": [
      "[nltk_data] Downloading package punkt to\n",
      "[nltk_data]     /Users/namanlalit/nltk_data...\n",
      "[nltk_data]   Package punkt is already up-to-date!\n"
     ]
    },
    {
     "data": {
      "text/plain": [
       "True"
      ]
     },
     "execution_count": 99,
     "metadata": {},
     "output_type": "execute_result"
    }
   ],
   "source": [
    "# Manage imports\n",
    "import pdfplumber\n",
    "import spacy\n",
    "import pandas as pd\n",
    "import numpy as np\n",
    "import re\n",
    "import nltk\n",
    "import tensorflow_hub as hub\n",
    "import matplotlib.pyplot as plt\n",
    "import csv\n",
    "import seaborn as sns\n",
    "import openai\n",
    "from spacy.lang.en import English\n",
    "from spacy.lang.en.stop_words import STOP_WORDS\n",
    "from gensim.models.doc2vec import Doc2Vec, TaggedDocument\n",
    "from nltk.tokenize import word_tokenize\n",
    "from sklearn.metrics.pairwise import cosine_similarity\n",
    "from sklearn.decomposition import PCA\n",
    "from sklearn.cluster import KMeans\n",
    "from sklearn.metrics import silhouette_score\n",
    "from sklearn.manifold import TSNE\n",
    "from sklearn.feature_extraction.text import TfidfVectorizer\n",
    "\n",
    "\n",
    "\n",
    "nlp = spacy.load(\"en_core_web_sm\")\n",
    "nltk.download('punkt')"
   ]
  },
  {
   "cell_type": "code",
   "execution_count": 2,
   "metadata": {},
   "outputs": [
    {
     "name": "stdout",
     "output_type": "stream",
     "text": [
      "dataset/doc1.pdf\n",
      "dataset/doc2.pdf\n",
      "dataset/doc3.pdf\n",
      "dataset/doc4.pdf\n",
      "dataset/doc5.pdf\n",
      "dataset/doc6.pdf\n",
      "dataset/doc7.pdf\n",
      "dataset/doc8.pdf\n",
      "dataset/doc9.pdf\n",
      "dataset/doc10.pdf\n",
      "dataset/doc11.pdf\n",
      "dataset/doc12.pdf\n",
      "dataset/doc13.pdf\n",
      "dataset/doc14.pdf\n",
      "dataset/doc15.pdf\n",
      "dataset/doc16.pdf\n",
      "dataset/doc17.pdf\n",
      "dataset/doc18.pdf\n",
      "dataset/doc19.pdf\n",
      "dataset/doc20.pdf\n",
      "dataset/doc21.pdf\n",
      "dataset/doc22.pdf\n",
      "dataset/doc23.pdf\n",
      "dataset/doc24.pdf\n",
      "dataset/doc25.pdf\n",
      "dataset/doc26.pdf\n",
      "dataset/doc27.pdf\n",
      "dataset/doc28.pdf\n",
      "dataset/doc29.pdf\n",
      "dataset/doc30.pdf\n",
      "dataset/doc31.pdf\n",
      "dataset/doc32.pdf\n"
     ]
    }
   ],
   "source": [
    "# Iterate the pdfs from the directory\n",
    "datasetDirectory = \"dataset/doc\"\n",
    "data = []\n",
    "\n",
    "for docIndex in range(1,33):\n",
    "    # Get the current directory\n",
    "    currDirectory = datasetDirectory\n",
    "    currDirectory += str(docIndex)\n",
    "    currDirectory += \".pdf\"\n",
    "    print(currDirectory)\n",
    "\n",
    "    # Read the pdf\n",
    "    pdf = pdfplumber.open(currDirectory)\n",
    "    text = \"\"\n",
    "    for pageIndex in range(0, len(pdf.pages)):\n",
    "        page = pdf.pages[pageIndex]\n",
    "        text += page.extract_text(x_tolerance=1, y_tolerance=3, layout=False, x_density=7.25, y_density=13)\n",
    "\n",
    "    data.append(text)"
   ]
  },
  {
   "cell_type": "markdown",
   "metadata": {},
   "source": [
    "### Titles of all the documents"
   ]
  },
  {
   "cell_type": "code",
   "execution_count": 3,
   "metadata": {},
   "outputs": [
    {
     "name": "stdout",
     "output_type": "stream",
     "text": [
      "Document Number:  1\n",
      "Title:  Heat Production and RF Detection during Cathodic Polarization of Palladium in 0.1 M LiOD\n",
      "\n",
      "Document Number:  2\n",
      "Title:  Electromagnetic Emission in the kHz to GHz Range Associated with Heat Production During Electrochemical Loading of Deuterium into Palladium: A Summary and Analysis of Results Obtained by Different Research Groups\n",
      "\n",
      "Document Number:  3\n",
      "Title:  EXCESS HEAT PRODUCTION IN Pd/D DURING PERIODIC PULSE DISCHARGE CURRENT IN VARIOUS CONDITIONS\n",
      "\n",
      "Document Number:  4\n",
      "Title:  MATERIALS ISSUES OF LOADING DEUTERIUM INTO PALLADIUM AND THE ASSOCIATION WITH EXCESS HEAT PRODUCTION\n",
      "\n",
      "Document Number:  5\n",
      "Title:  Excess Heat Production and Nuclear Ash in PdO/Pd/PdO Heterostructure after Electrochemical Saturation with Deuterium\n",
      "\n",
      "Document Number:  6\n",
      "Title:  EFFECT OF BORON FOR THE HEAT PRODUCTION AT THE HEAVY WATER ELECTROLYSIS USING PALLADIUM CATHODE\n",
      "\n",
      "Document Number:  7\n",
      "Title:  Heat Production and Trial to Detect Nuclear Products from Palladium-Deuterium Electrolysis Cells\n",
      "\n",
      "Document Number:  8\n",
      "Title:  SOME CHARACTERISTICS OF HEAT PRODUCTION USING THE “COLD FUSION” EFFECT\n",
      "\n",
      "Document Number:  9\n",
      "Title:  Multifunctional Ion Beam Installation “HELIS” as a new instrument for advanced LENR research\n",
      "\n",
      "Document Number:  10\n",
      "Title:  Charged Particle Emissions and Surface Morphology of Pd/PdO:Dx and TiD Targets Under Electron Beam Excitation\n",
      "\n",
      "Document Number:  11\n",
      "Title:  Integrated approach for high resolution surface characterization: coupling focused ion beam with micro and nano mechanical tests.\n",
      "\n",
      "Document Number:  12\n",
      "Title:  Charged Particle Emission during Electron Beam Excitation of Deuterium Subsystem in Pd and Ti- Deuteride Targets\n",
      "\n",
      "Document Number:  13\n",
      "Title:  RESEARCH INTO CHARACTERISTICS OF X-RAY EMISSION LASER BEAMS FROM SOLID-STATE CATHODE MEDIUM OF HIGH-CURRENT GLOW DISCHARGE\n",
      "\n",
      "Document Number:  14\n",
      "Title:  SEARCH FOR COHERENT DEUTERON FUSION BY BEAM AND ELECTROLYSIS EXPERIMENTS\n",
      "\n",
      "Document Number:  15\n",
      "Title:  ANOMALOUS RADIATION INDUCED BY 1-300 KEV DEUTERON ION BEAM IMPLANTATION ON PALLADIUM AND TITANIUM\n",
      "\n",
      "Document Number:  16\n",
      "Title:  Anomalous Phenomena in E<18 KeV Hydrogen Ion Beam Implantation Experiments on Pd and Ti\n",
      "\n",
      "Document Number:  17\n",
      "Title:  Screening Energy of the d+d Reaction in an Electron Plasma Deduced from Cooperative Colliding Reaction\n",
      "\n",
      "Document Number:  18\n",
      "Title:  LENR- Experiment on Heterogeneous Hydrocarbon Plasma Jet Interaction with Ni-Foil-Target\n",
      "\n",
      "Document Number:  19\n",
      "Title:  Pressurized Plasma Electrolysis Experiments Jean-Paul Biberian\n",
      "\n",
      "Document Number:  20\n",
      "Title:  Searching for excess heat in Mizuno-type plasma electrolysis\n",
      "\n",
      "Document Number:  21\n",
      "Title:  Effective Interaction Potential in the Deuterium Plasma and Multiple Resonance Scattering\n",
      "\n",
      "Document Number:  22\n",
      "Title:  Generation of Heat and Products During Plasma Electrolysis\n",
      "\n",
      "Document Number:  23\n",
      "Title:  Confirmation of heat generation and anomalous element caused by plasma electrolysis in the liquid\n",
      "\n",
      "Document Number:  24\n",
      "Title:  \"Quasi-Plasma\" Transport Model in Deuterium Overloaded Palladium Cathodes\n",
      "\n",
      "Document Number:  25\n",
      "Title:  Femto-Helium and PdD Transmutation\n",
      "\n",
      "Document Number:  26\n",
      "Title:  Upper Bound in the Fusion Products and Transmutation Enhancement in Alloys\n",
      "\n",
      "Document Number:  27\n",
      "Title:  Transmutations Involving the Di-neutron in Condensed Matter\n",
      "\n",
      "Document Number:  28\n",
      "Title:  Evidence for Nuclear Transmutations in Ni–H Electrolysis\n",
      "\n",
      "Document Number:  29\n",
      "Title:  Theoretical Study of the Transmutation Reactions\n",
      "\n",
      "Document Number:  30\n",
      "Title:  Is the Abundance of Elements in Earth’s Crust Correlated with LENR Transmutation Rates?\n",
      "\n",
      "Document Number:  31\n",
      "Title:  LENR Transmutation of Stable Sr and K Isotopes in Activated Microbiological Syntrophic Anaerobic Association\n",
      "\n",
      "Document Number:  32\n",
      "Title:  Nickel Transmutation and Excess Heat Model using Reversible Thermodynamics\n",
      "\n"
     ]
    }
   ],
   "source": [
    "#Extract title\n",
    "titleList = []\n",
    "for index in range(32):\n",
    "    splittedDoc = data[index].split('\\n')\n",
    "    if(index == 0 or index == 3 or index == 15 or index == 16 or index == 17 or index == 18 or index == 20 or index == 21 or index == 25 or index == 29 or index == 30 or index == 31):\n",
    "        titleList.append(splittedDoc[2] + \" \" + splittedDoc[3])\n",
    "    elif (index == 1):\n",
    "        titleList.append(splittedDoc[2] + \" \" +  splittedDoc[3] + \" \" + splittedDoc[4] + \" \" + splittedDoc[5])\n",
    "    elif (index == 2 or index == 5 or index == 12):\n",
    "        titleList.append(splittedDoc[3] + \" \" + splittedDoc[4] + \" \" +  splittedDoc[5])\n",
    "    elif (index == 4 or index == 8 or index == 10):\n",
    "        titleList.append(splittedDoc[0] + \" \" +  splittedDoc[1])\n",
    "    elif (index == 6 or index == 11 or index == 13):\n",
    "        titleList.append(splittedDoc[3] + \" \" +  splittedDoc[4])\n",
    "    elif (index == 7 or index == 14 or index == 22 or index == 23):\n",
    "        titleList.append(splittedDoc[1] + \" \" +  splittedDoc[2])\n",
    "    elif (index == 9):\n",
    "        titleList.append(splittedDoc[0] + \"x \" + splittedDoc[2])\n",
    "    elif (index == 19):\n",
    "        titleList.append(splittedDoc[0])\n",
    "    elif (index == 24 or index == 26 or index == 27 or index == 28):\n",
    "        titleList.append(splittedDoc[2])\n",
    "\n",
    "for doc in range(len(titleList)):\n",
    "    print(\"Document Number: \", doc+1)\n",
    "    print(\"Title: \", titleList[doc])\n",
    "    print()"
   ]
  },
  {
   "cell_type": "markdown",
   "metadata": {},
   "source": [
    "### Abstracts of all the documents"
   ]
  },
  {
   "cell_type": "code",
   "execution_count": 4,
   "metadata": {},
   "outputs": [
    {
     "name": "stdout",
     "output_type": "stream",
     "text": [
      "Document Number:  1\n",
      "Abstract:  The study of the Fleischmann–Pons Effect (FPE), i.e. the production of excess power production during electrochemical loading of deuterium in palladium (in the past labeled cold fusion) has had a notably multidisciplinary character, involving solid state and nuclear physics, material science, electrochemistry and other fields. Correlations between the material status and the occurrence of the effect as well as some changes in the electrochemical interface status have been observed. Although during the last two decades, in several calorimetric experiments the effect was observed to be well above the measurement uncertainty, the mechanism producing the excess power is not completely understood. So far, the lack of reproducibility has been responsible for the absence of a clear explanation of the phenomenon based on experimental apparatus designed to enhance the spectrum of information required to define the effect. Recently, In order to improve this aspect of this research, specific work has been carried out to investigate whether the excess power was produced concurrently with the emission of Radio Frequency from the active cathode. Suitable probes and triggering included in the RF experimental system revealed RF signal emission during electrochemical loading of palladium samples, and a correlation between the heat production, in active samples, and RF signal emission was found. The preliminary results highlight the importance of performing studies on the electrodynamic effects that may be involved in the phenomenon, and the importance of the design of appropriate instruments designed to investigate unexplored regions of metal hydrogen systems. c 2016 ISCMNS. All rights reserved. ISSN 2227-3123 \" Keywords: Anomalous heat effect in metal hydride, Electrochemistry, Electromagnetic stimulation, Fleischmann and Pons effect, Metal hydrides and deuterides, Palladium, Palladium alloys, Radiofrequency\n",
      "\n",
      "Document Number:  2\n",
      "Abstract:  There is a small literature on the combination of low energy nuclear reactions (LENR) experiments and radiofrequencies (RF). The papers are worth attention in case they can teach anything about the mechanisms behind LENR. Application of RF to LENR electrochemical cells in the mid-1990s clearly showed increases in the production of excess power. More recently, RF have been measured in LENR cells. However, it is still possible that those data are artifacts of the operation of the system, and not indicative of LENR. It has been suggested that the appearance of RF in LENR experiments is the cause of LENR, and not merely a manifestation of such reactions. That possibility has significant implications. In the present paper, we summarize and analyze the results obtained by different research groups concerning the application and emission of RF in the kHz to GHz range associated with heat production during electrochemical loading of deuterium into palladium. c 2016 ISCMNS. All rights reserved. ISSN 2227-3123 \" Keywords: Electromagnetic emissions, Electromagnetic radiation, Excess power, LENR, Heat production\n",
      "\n",
      "Document Number:  3\n",
      "Abstract:  Experimental data from low energy nuclear reactions (LERN) in condensed media are presented. The nuclear reactions products were found in solid cathode media used in glow discharge. Apparently, the nuclear reactions were initiated when bombarding the cathode surface by plasma ions with the energy of 1.0-2.0 keV. Excess heat from a high current glow discharge reaction in D , Xe and Kr using cathodes already charged 2 with preliminary deuterium-charged Pd and Ti cathode samples are given. Excess heat up to 10 - 15 W and efficiency up to 130% was recorded under the experiments for Pd cathode samples in D discharge. Excess 2 heat up to 5 W and efficiency up to 150% was recorded for Pd cathodes that were charged with deuterium before the run, in Xe and Kr discharges. At the same time excess heat was not observed for pure Pd cathode samples in Xe and Kr discharges. The formation of impurity nuclides (7Li, 13C, 15N, 20Ne, 29Si, 44Ca, 48Ca, 56Fe, 57Fe, 59Co, 64Zn, 66Zn, 75As, 107Ag, 109Ag, 110Cg, 111Cg, 112Cg, 114Cg, 115In) with the efficiency up to 1013 atoms/s was recorded. The isotopic ratios of these new nuclides was quite different from the natural ratios. Soft X-ray radiation from the solid-state cathode with the intensity up to 0.01Gy/s was recorded in experiments with discharges in H , D , Ar, Xe and Kr. The X-ray radiation was observed in bursts of up to 2 2 106 photons, with up to 105 bursts per second while the discharge was formed and within 100 ms after turning off the discharge current. The results of the X-ray radiation registration showed that the exited energy levels have a lifetime up to 100 ms or more, and the energy of 1.2 - 2.5 keV. A possible mechanism for producing excess heat and nuclear transmutation reactions in the solid medium with the exited energy levels is considered.\n",
      "\n",
      "Document Number:  4\n",
      "Abstract:  The ability of palladium cathodes to attain and maintain high loading levels, at high current density and for long times, is controlled by two factors: the condition of the electrochemical interface which allows the attainment of high deuterium activity; the defect density and mechanical condition of the bulk material which permits the Pd lattice to withstand and contain high bulk deuterium activities when these equilibrate to produce extreme pressures of deuterium gas inside closed incipient voids within the metal. Examples are given from a set of 26 intentionally similar current ramps which show three distinct Modes of loading performance: Mode A - a linear decrease of Pd resistance, beyond the resistance maximum, with logarithmic increase in electrochemical current; Mode B -an initial log-linear decrease on the Mode A trajectory, followed by a rapid increase in resistance when the resistance falls below a critical value; Mode C - a shallow decrease in resistance with approximately symmetric increase as the [log] current density is increased beyond a threshold value similar to that for Mode B. Mode A is most frequently associated with the appearance of calorimetrically determined excess heat.\n",
      "\n",
      "Document Number:  5\n",
      "Abstract:  Heat production nuclear ash and electrophysical processes in PdO/Pd/PdO (Au/Pd/PdO) heterostructures electrochemically saturated with deuterium (hydrogen) have been investigated. It was shown in after electrolysis period a strong heat flash with duration of 2-7 s and energy density of 60-100 J/cm2 was observed for Pd/PdO:D(H) sample placed in air atmosphere. The thermal energy of each flash was approximately 2-5 times higher than the energy supplied to the sample during electrolysis. Neutron- and γ-emissions accompanying the heat production have been investigated.\n",
      "\n",
      "Document Number:  6\n",
      "Abstract:  The heat balance during the electrolysis of lM LiOD heavy water solution using Pd calhlxle has been measured using the 0ow calorimeter with the constant power supply and the thermochemically closed cell. The special attention ,vas paied on the concentration of Bin the palladium cath\\x.le. The B concentration was controlled from 127 to 1 000ppm. Using Pd that contained 127ppm and I000ppm B, the excess heat was nol observed. While, using Pd that contained 267ppm and 500ppm B, the small excess heat was observed al 3 rnns out of 5 runs. The excess heal appeared continuously from the bcgining of the electrolysis. These concentration of B might be effeclire for the excess heat genaration.\n",
      "\n",
      "Document Number:  7\n",
      "Abstract:  A burst-like excess heat release, equivalent to 110% of the input electric power, was clearly observed for the first time in our newly built open type electrolysis cell using Pd/0.l MLiOD/Pt. After being precharged, the cell was driven to boiling three times the last of which continued for about 16 hours to almost dryness. The burst occurred just during the calm period about 6 hours after the first boiling. The temperature of the cell, about 100 ml in volume, increased by 7.5 Kin 13 minutes. A palladium cathode, 2mm¢> x 7.05mm, was a heat source, although the mechanism of the heat generation is still uncertain. During the whole period of this run, however, the phenomenon took place only once. Neither increase of neutron emission nor that of tritium concentration has been detected. Mass analysis showed that any traces of D2 as well as 4He have not remained in the Pd sample used. Detection of 'Yray emission as well as 3He and 4He in off gas during or just after release of excess power should be yet to be pursued further.\n",
      "\n",
      "Document Number:  8\n",
      "Abstract:  Additional evidence is presented to show that heat production resulting from the Pons-Fleis- chmann Effect has a positive temperature coefficient, has a critical onset current density, and originates at the palladium cathode.\n",
      "\n",
      "Document Number:  9\n",
      "Abstract:  The ion beam installation HELIS (P.N. Lebedev Physics Institute, Moscow, Russia) represents an ion accelerator of light elements with atomic number in the range Z=1-54 with ion energies ranging from 0.5 to 50 keV operating at deuteron current densities up to 2 A/cm2 and intended to perform a wide spectrum of physical experiments related to LENR.\n",
      "\n",
      "Document Number:  10\n",
      "Abstract:  We report charged particle emission from metal deuterides upon e-beam excitation of their surface. Detection and identification was made using CR-39 plastic track detectors with Cu and Al absorbers. Protons with primary energy 3 MeV and α-particles with energies E > 10 MeV α are observed.\n",
      "\n",
      "Document Number:  11\n",
      "Abstract:  In the present paper, we will give a brief overview about the synergic use of two high resolution techniques with focus on applications on thin coatings: Focused Ion Beam (coupled with electron beam) imaging, milling and deposition technique (briefly called FIB) and Nanoindentation. After a basic description of both techniques (architecture, probe-sample interaction basics and operation modes), we will demonstrate effectiveness of this approach for microstructural investigation on very small samples without any sample preparation or pre- processing by presenting two case studies: (i) Analysis of residual stresses of engineered surfaces by coupling focused ion beam controlled material removal and nanoindentation testing, and (ii) Nano-mechanical characterization of sputtered niobium thin films for application in accelerating cavities.\n",
      "\n",
      "Document Number:  12\n",
      "Abstract:  Energetic charged particle emissions accompanying deuterium desorption from specially prepared Pd/PdO:Dx and TiDx targets in vacuum, stimulated by electron beam (J ~ 0.6 mA/cm2, U = 30 keV) have been studied using a set of CR-39 plastic track detectors covered with various metal foil filters. It was found that the electron bombardment of those targets is caused by statistically significant emissions of DD-reaction product (3 MeV protons), as well as high energy alpha particles (11-20 MeV). At the same time the Pd/PdO:Dx and the TiDx samples show no sign of nuclear emissions during vacuum exposure without e-beam stimulation. Extrapolation of both the DD-reaction cross section and the enhancement factor (consistent with calculated screening potential U = 750 eV) e to very low deuteron energy allowed us to satisfactorily describe the detected DD- reaction yield in Pd/PdO:D target, assuming “hot” deuteron (E ~ 3.0 eV) x d generation under e-beam bombardment. This result strongly supports the theoretical prediction [1,2] with regards to electron excitation of the D- subsystem in Pd- deuterides\n",
      "\n",
      "Document Number:  13\n",
      "Abstract:  X-ray emissions ranging 1.2 – 3.0 keV with dose rate up to 1.0 Gy/s have been registered in experiments with high-current Glow Discharge. The emissions energy and intensity depend on the cathode material; the kind of plasma-forming gas; and the discharge parameters. The experiments were carried out on the high-current glow discharge device using D , H , Kr and Xe 2 2 at pressure up to 10 Torr, as well as cathode samples made from Al, Sc, Ti, Ni, Nb, Zr, Mo, Pd, Ta, W, Pt, at current up to 500 mA and discharge voltage of 500-2500 V. Two emission modes were revealed under the experiments: 1. Diffusion X-rays was observed as separate X-ray bursts (up to 5×105 bursts a second and up to 106 X-ray quanta in a burst); 2. X-rays in the form of laser microbeams (up to 104 beams a second and up to 1010 X-ray of quanta in a beam, angular divergence was up to 10-4, the duration of the separate laser beams must be τ =3·10-13 - 3·10-14 s, the separate beam power must be 107 – 108 W). The emission of the X-ray laser beams occurred when the discharge occurred and within 100 ms after turning off the current. The results of experimental research into the characteristics of secondary penetrating radiation occurring when interacting primary X-ray beams from a solid-state cathode medium with targets made of various materials are reported. It was shown that the secondary radiation consisted of fast electrons. Secondary radiation of two types was observed: 1. The emission with a continuous temporal spectrum in the form of separate bursts with intensity up to 106 fast electrons a burst. 2. The emission with a discrete temporal spectrum and emission rate up to 1010 fast electrons a burst. A third type of the penetrating radiation was observed as well. This type was recorded directly by the photomultiplier placed behind of the target without the scintillator. The abnormal high penetrating ability of this radiation type requires additional research to explain. The obtained results show that creating optically active medium with long-living metastable levels with the energy of 1.0 - 3.0 keV and more is possible in the solid state.\n",
      "\n",
      "Document Number:  14\n",
      "Abstract:  Procedures and results of three kinds of experiments i.e., closed type D O/Pd electrolysis, 2 electron beam irradiation and ion-beam bombardment on titanium-deuteride (TiDx) have been introduced in this paper. In the electrolysis experiment, upper gas of the electrolysis cell was analyzed using a Quadrupole Mass Analysis System (Q-MAS). Significant amount of helium-4 was detected without neutron emission in several experiments and in one of these experiments, the amount of helium-4 atom in the released gas from the palladium cathode was 8.1x1016 atoms. Under electron beam irradiation to highly D-loaded palladium, anomalous spectra were taken in X-ray measurement. In the experiments using deuteron beam and TiDx, responses which suggested 3D multi-body fusion were taken and the reaction rate of which was increased compared to the D(d,p)T reaction rate, below 100 keV. This result may reflect the coherent effect of the solid state in the reactions. From the results of the experiments using proton beam and TiDx, peaks which suggested 3D multi-body reaction were detected with high reproducibility. Moreover, high energetic protons having 17-20 MeV emitted kinetic energy which suggested H-D-D three-body coherent fusion were also detected.\n",
      "\n",
      "Document Number:  15\n",
      "Abstract:  Low energy (l-300keV) deuterium ion beam implantation experiment on Palladium and titanium foil (plate) were preformed, in order to study the nuclear and atomic interaction in solid. X-ray, Y ray, charged particle and neutron ware measured simultaneously. A series of anomalous experimental phenomena ware observed. A clear peak at 3.2MeVwas observed, when a pre-loading 1iDx was applied. This peak became evidently, following the implantation dose. Therefore, it is considered as the alpha peak from D-T secondary reaction. Its maximum ratio to D-D reaction reached 0.0015. This ratio was much higher than prediction value based on the secondary reaction of D-D fusion. Some unknown high energy counts located from 3.5MeVto 17MeVin charged particle spectra has been observed for many times. Sometimes the counts concentrated in limited area, which appeared like a peak but poor statistics. The phenomena were dij]icult to be reproduced. In the X-ray spectra, there were many characteristic peaks from Fe, Ni, Cu, Zn, As, Zr, Ru, Pd etc elements. The gamma radiation up to 30MeV was measured with a HpGe detector. Comparing to background, the intensity of foreground was a few orders higher. There was also a few counts distributed around 17MeVand 24MeV, which might be the gamma ray from D(d, Y )'He reactions.\n",
      "\n",
      "Document Number:  16\n",
      "Abstract:  Implantation experiments of very low energy (lKeV <E<18KeV ) hydrogen ions on hydrogen loaded metals have been performed with high beam density (Jmax.~1.2 mNcm2) and weak beam density (J min.~ 0.02 mNcm2). Palladium and titanium foils (plates) have been bombarded with proton and deuteron beams in order to compare the atomic and nuclear interactions between different ion beams. X ray and charged particles have been measured, and neutron and gamma doses were also monitored during implanting experiments. An anomalous peak in X-spectra, which energy is about four times of beam energy, has been observed during high beam density experiment. The peak moved from about 40 KeV to 62 KeV and FWHM reduced rapidly, while the beam energy and intensity increased. Another wide peak with over twice of the beam energy has been measured in experiment with low beam density. This peak located between 16 and 30 KeV, and its peak position grew with the growth of integrated implantation dose (implantation time). Some anomalous intensities of neutrons correlated with a charged particle peak (3-4 MeV) have been also observed in deuteron-palladium experiment. The highest neutron intensity reached about 8 X 104n/s, while the beam energy and intensity was about 15 Ke V and 1.0 mA, respectively.\n",
      "\n",
      "Document Number:  17\n",
      "Abstract:  We have measured protons and tritons from the d (d,p) t reaction in liquid In, Sn, Pb and Bi during the D+ molecular deuterium 3 beam bombardment for 15 < E < 60 keV. Observed energy spectra and yield excitation functions are anomalous and suggest that the target deuteron is also in motion. It is found that the reaction mechanism is unique to the molecular beam in such a way that one deuteron in a molecule is elastically scattered by a host metal atom and then it collides with the other to cause the d+d reaction. We call it as the cooperative colliding mechanism (CCM). Experimental data are compared with the CCM calculation and values of the screening energy of the d+d reaction are deduced. They are 380 80, 570 80, 670 100 and 490 100 eV for In, Sn, Pb ± ± ± ± and Bi, respectively. It is concluded that the screening energy of the d+d reaction in an electron plasma in metal is really large: the averaged value of 530 eV is more than ten times larger than the simple Thomas–Fermi screening prediction. c 2016 ISCMNS. All rights reserved. ISSN 2227-3123 \" Keywords: Cooperative colliding mechanism, DD reaction in metal, Liquid metal, Low-energy deuteron beam, Screening potential\n",
      "\n",
      "Document Number:  18\n",
      "Abstract:  Heterogeneous Hydrocarbon Plasma (HHP) was used in LENR experiments in the studies [1], [2] for the first time. This HHP was created by a pulsed erosive capillary plasma generator (PG). The working erosive substance PMMA (polymethyl-methacrylate, monomer-C H O ) was used in this PG. This work is a continuation of the previous ones [1], [2]. A calorimetric experiment with 5 8 2 PG and distant Ni-foil cathode has been carried out in argon atmosphere (Pst~1 Bar). It was determined that HHP consists of the carbon nano-clusters and hydrogen atoms + hydrogen ions. These species are connected with dissociation of the initial PMMA. The interaction of HHP with thin Ni-foil target (width 0.1 ÷ 1 mm) has been studied in this work. HHP- jet heats, melts and evaporates this thin Ni-foil target. In a result of this interaction a small hole with diameter 1–3 mm in the Ni-foil target was burned by HHP-jet. Parameters of this hole were measured. Ni-foil weight was measured before and after the experiment also. It was revealed that the value COP was about of 5 ÷ 6 in this experiment (where COP = QT/Qe, QT – thermal energy of heating, melting and evaporating of the Ni-foil-target, Qe-electric energy input for HHP-jet creation). New transmuted chemical elements Li, Al, Ca,. . . were recorded in the HHP by the optical spectroscopy method, the EDS-method and the MS ICP method. © 2022 ICCF. All rights reserved. ISSN 2227-3123 Keywords: LENR, heterogeneous hydrocarbon plasma, PMMA, Ni foil, transmutation\n",
      "\n",
      "Document Number:  19\n",
      "Abstract:  We have performed a plasma electrolysis experiment for the first time at a pressure of 5 105 Pa in a specially designed calorimeter. × The cathode was a 2 mm tungsten rod, and the anode was a stainless-steel foil. The electrolyte was 0.6 mol K2CO3 in light water. In one instance, we observed excess heat of 20 W for 90 min. c 2015 ISCMNS. All rights reserved. ISSN 2227-3123 # Keywords: Cold fusion, Electrolysis, High pressure, Plasma\n",
      "\n",
      "Document Number:  20\n",
      "Abstract:  Excess heat generated in the glow discharge plasma electrolysis, first reported by Mizuno and Ohmori (1), has been studied by several researchers, both in Japan (2, 3, 4) and in other countries (5, 6, 7, 8). Most reports, but not all, confirmed generation of excess heat. Facing this situation we decided to replicate the most recent experiment (8) in which excess heat was reported to increase with voltage. Our results do not confirm reality of excess heat.\n",
      "\n",
      "Document Number:  21\n",
      "Abstract:  The effective interaction potential for charged particles is calculated in the deuterium plasma formed in the surface region of the palladium cathode in the electrolysis of heavy water. It is shown that the Coulomb potential is overscreened producing, at certain distances, an attractive potential between deuterium nuclei pairs and also between the deuterium nuclei and the surface atoms. This behavior of the effective potential in the deuterium plasma can be regarded as a counterpart of the Friedel oscillations of the electron gas at zero temperature. Because of this attractive potential, there are bound states for the deuteron pairs as well as for the surface atoms and deuterons. In these bound states the equilibrium distance between the nuclei is of the order 0.15 - 0.2 Å depending on the number density of deuterons. The fusion rate is calculated for the bounded deuteron pairs and it is found to be of the order  10-22 1/s per deuteron pair for the highest deuteron densities. Furthermore, it is shown that larger fusion rates are possible for the deuterons bound to the surface atoms. This may arise by a process, where the trapped deuterons share the released energy collectively via a proposed Multiple Resonance Scattering (MRS) mechanism. It is then found that the 4 He -channel is the overwhelmingly dominant fusion channel. Moreover, the appearance of the transmutation processes in this MRS procedure is briefly discussed.\n",
      "\n",
      "Document Number:  22\n",
      "Abstract:  Direct decomposition of water is very difficult in normal conditions. Hydrogen gas can be usually obtained by electrolysis or by a pyrolysis reaction at high temperatures, starting at approximately 3700ºC. However, as we have already reported, anomalous heat generation can occur during plasma electrolysis, and this process makes it rather easy to achieve both electrolysis and pyrolysis simultaneously. In this paper we describe anomalous amounts of hydrogen and oxygen gas generated during plasma electrolysis. The generation of hydrogen far in excess of amounts predicted by Faraday’s law is continuously observed when conditions such as temperature, current density, input voltage and electrode surface are suitable. Non-Faraday generation of hydrogen gas sometimes produces more than 80 times as much hydrogen as normal electrolysis does. Unfortunately there have been few claimed replications of excess hydrogen, even in rare cases in which excess heat is claimed. In most cases, no excess heat or hydrogen is observed. The reaction products found after electrolysis were different after excess heat generation. Key words: plasma electrolysis, pyrolysis, hydrogen generation, transmutation\n",
      "\n",
      "Document Number:  23\n",
      "Abstract:  Plasma was formed on the electrode surface in a liquid electrolyte when a metal cathode was polarized in high voltage electrolysis in the solution. During the plasma electrolysis large amounts of heat are sometimes generated. The heat can exceed input substantially, in some cases by up to 200 percent of input power. At the same time, anomalous elements are detected in the electrolyte and on the electrode surface. Based on the heat and the product, we hypothesize a nuclear reaction can be induced by photon activation on the cathode element.\n",
      "\n",
      "Document Number:  24\n",
      "Abstract:  The Pd-D system has been described assuming a two-population model. A \"quasi-plasma\" delocalized boson gas picture has been used for the deuterons exceeding the stoichiometric ratio in Pd-D compounds. A mathematical model sup�orted by a numerical computer code with distributed parameters has been developed in order to describe the evolution of the deuteron concentration profile inside a Pd cathode under pulsed electrolysis. Several boundary conditions have been taken into account. A strong correlation has been found between the model system evolution and the experimental data 1.\n",
      "\n",
      "Document Number:  25\n",
      "Abstract:  Extensive evidence exists for cold fusion to produce transmutation products as well as excess heat. This paper deals with the palladium–deuteride (PdD) structure that is generally modeled with a deuterium-to-helium (D + D 4He) cold-fusion process. ⇒ How this process results in transmutation is based on the extended-lochon model that predicts deep-orbit electrons that are tightly bound to the 4He nucleus and thus make the equivalent of a neutralized alpha particle. This model is compared with the NiH system (H + H D, H##, or 2H#) described earlier and distinguishes long-range from short-range transmutation (distance from the fusion ⇒ 2 site) as well as the relative excess energies from fusion vs. transmutation. The model predicts the probable transmutation process(es) and products in the palladium system and explains other observed results of cold-fusion experiments. © 2015 ISCMNS. All rights reserved. ISSN 2227-3123 Keywords: Femto-atoms, Femto-molecules, Deep-Dirac levels, Neutral-alpha, Selective fusion\n",
      "\n",
      "Document Number:  26\n",
      "Abstract:  Significant elemental transmutations occur on cathodes comprised of either pure metals (Ni, Cu) or the alloys Kanthal (Fe Cr Al ) and Ni-Fe (Ni Fe ) in light water electrolysis highly biased (~30 V) against a pure graphite anode. The 0.74 0.21 0.05 0.93 0.07 utilization of graphite as an anode is advantageous because it avoids anode-driven contamination and establishes a distinct upper bound in the fusion products (Cu), which is different from upper bounds in previous studies (Pb or Ag) with a Pt anode. Whenever isotopic shifts were measured following transmutation, they differed from the natural ratios. Pure Ni cathode predominantly trans- mutes to Fe and Cu, pure Cu cathode transmutes to Fe and Mg, Kanthal shows the appearance of Cu and Mg and the Ni-Fe alloy transmutes to Mg and Cu. While the extent of transmutation in pure cathodes is a few tens of percent after about twelve hours of Cathodic Hydrogen Loading (CHL), Kanthal and Ni-Fe alloy show comparable or larger amounts of transmutations in less than an hour of CHL. © 2022 ICCF. All rights reserved. ISSN 2227-3123 Keywords: Low-energy-nuclear-reactions, Electrolysis, Alloys, Graphite, High-voltage\n",
      "\n",
      "Document Number:  27\n",
      "Abstract:  It has been recently revealed how a lattice bound proton, in an electrochemical cathode, can absorb a relativistic electron yielding a neutron. There is no longer much doubt that the analogous electron capture by a deuteron, in condensed matter, ( foe r−re mal e+ d1 i-p n↑e0 un t↑ ron→ ma0 yn b↓ e0n v↑ an+ ishν ie n) gli ys se hv oen rt,m bo ur te inef tfi heci pe an lt l, aw dih ue mre dt eh ue tea rr ir do ew ms ai tn rd ixic a wte n shu oc wleo thn as tp ii tn is s. ceT rh tae inli lf ye st uim ffie cio ef ntt lh ye lon ne gw tl oy d , e undergo transmutation with constituents of the matrix as well as added “impurities” to yield both isotopic and isotonic products: i.e. (0n 0n +106 Pd 108Pd). When the agent capturing the di-neutron is 1H, tritium is the result. When it is 2H, 4He and heat ↓ ↑ → are the products (the Fleishmann Pons Heat Effect). Consistent with the tendency of di-neutrons to cluster, multiple di-neutrons are occasionally captured yielding neutron heavy nuclei. This is followed by beta decay and the respective isotonic products. We show that, within the PdD matrix, these di-neutron reactions involve phonon enforced quantum tunneling. The di-neutron-phonon mech- anism fully accounts for the following: (1) the evolved heat commensurate with 4He production, (2) the production of tritium when small amounts of 1H are present, (3) the release of feeble neutrons, (4) the formation of Pr when Cs is present, (5) the ostensive intermittent reproducibility and erratic (chaotic) heat out-puts, and (6) the seemingly major problem of obfuscating the Coulombic repulsion issue. Indeed, the antics of the di-neutron can fully explain the important aspects of normal temperature LENR heat effects and transmutations. Further, the di-neutron paradigm (mechanism) falls within the normal bounds of the Standard Model, and it is without the necessity of exotic forms of matter. c 2019 ISCMNS. All rights reserved. ISSN 2227-3123 # Keywords: Chaos, Di-neutron, Electron Capture, 3H, 4mH, Palladium-128, Transmutation\n",
      "\n",
      "Document Number:  28\n",
      "Abstract:  We report an easily reproducible Low Energy Nuclear Reactions (LENR) electrolysis experiment on an Ni–H system. An elec- trolytic cell with a Ni cathode and a Pt anode with an aqueous (H2O not D2O) solution of K2CO3 as electrolyte was used for the experiment. A dc-power supply capable of supplying up to 5 A current was used to drive the electrolysis with the typical current being around 4 A and the applied voltage about 100 V. After running the electrolysis for about two weeks with a daily run time of 8 h on an average, a part of the nickel electrode, which by this time had become black, was taken for elemental analysis using Energy Dispersive Spectroscopy (EDS). The EDS analysis showed that a whole host of new elements had appeared on the cathode such as: K, Fe, Cu, O, Rh, Zr and Pb. The apparent concentration of the elements varied from just over a percent for K and Pb to about 10% for Rh and 20% for Cu. The sample was then taken to a Time of Flight Secondary Ion Mass Spectrometer (ToF-SIMS) for isotopic analysis. This analysis also showed that a set of new elements had appeared on the nickel wire which were: K, Si, Mg, Mn, Zn, O & Rh. The Ni itself was found to have the following isotopes: 58Ni, 60Ni and 62Ni with isotope concentration ratios differing significantly from the ratio found in naturally occurring Ni. It was clear that in the electrolyzed Ni the concentrations of 60Ni and 62Ni had gone down compared to the concentration of 58Ni. This is a clear indication that nuclear reactions had taken place during electrolysis. c 2017 ISCMNS. All rights reserved. ISSN 2227-3123 \" Keywords: Electrolysis, LENR, Ni–H systems, Transmutation\n",
      "\n",
      "Document Number:  29\n",
      "Abstract:  Transmutation reactions are studied from a theoretical point of view. An idea is proposed to explain the variations in the transmuta- tion ability of different elements, especially the relative inertness of palladium compared to the other elements. Proposals are made in order to verify experimentally this explanation and to enhance the transmutation signal. c 2016 ISCMNS. All rights reserved. ISSN 2227-3123 \" Keywords: LENR, Surface, Theory, Transmutation, WKB approximation The Condensed Matter Nuclear Science has been studied for the last 26 years since the original work by Fleis- chmann and Pons [1]. While the cold fusion of two deuterium atom may be more important from the technological point of view, the transmutation reactions are scientifically more interesting. The existence of low energy transmutation reactions is intrinsically even more surprising than the cold (low energy) deuterium fusion, because the low tunneling probability (the Gamow factor) is supposed to suppress very effectively the transition rate with the increasing nuclear charge. In this note, transmutation reactions will be studied theoretically. In what follows we shall assume that there is some kind of mechanism, which greatly enhances the apparently small tunneling probability. We will not make any restrictive assumptions about the actual mechanism, except just assuming that the mechanism itself is independent of the nuclear charge Z.\n",
      "\n",
      "Document Number:  30\n",
      "Abstract:  Nuclear transmutations are reported in many low-energy nuclear reaction (LENR) experiments. We showed in a previous study (Scholkmann and Nagel, J. Condensed Matter Nucl. Sci. 13 (2014) 485–494) that (i) the transmutation data of three independent experiments have a similar pattern and (ii) this pattern correlates with a model-based on the prediction of Widom and Larsen (WL). In the present study, we extended our analysis and investigated whether the abundance of elements in Earth’s crust is correlated with either (i) the WL-prediction, or (ii) the three LENR transmutation data sets. The first analysis revealed that there is no statistically significant correlation between these variables. The second analysis showed a significant correlation, but the correlation only reflects the trend of the data and not the peak-like pattern. This result strengthens the interpretation that the observed peak-like pattern in the transmutation data sets does not originate from contamination. Further implications of our study are discussed and a recommendation is given for future transmutation experiments. c 2016 ISCMNS. All rights reserved. ISSN 2227-3123 \" Keywords: Elements in Earth’s crust, Low-energy nuclear reactions (LENR), Neutron scattering strength, Statistical analysis, Trans- mutation, Widom–Larsen theory\n",
      "\n",
      "Document Number:  31\n",
      "Abstract:  137 In our previous works [1]–[5], an effective method for accelerated deactivation of the reactor Cs isotope during nuclear reaction of transmutation Cs137 + p = Ba138 in growing microbiological cultures was presented and discussed. In the present study we have attempted to solve the problem of accelerated transmutation of another very dangerous radioactive Sr90 isotope. This paper presents the results of investigation of the nuclear reaction Sr88 + p = Y89 a transmutation to a stable Sr88 analog of radioactive Sr90 isotope. The research was carried out on the basis of optimal anaerobic syntrophic associations under the stimulated long-distant action of weak undamped thermal waves. © 2022 ICCF. All rights reserved. ISSN 2227-3123 Keywords: Nuclear reaction in biological systems, Biotransmutation of isotopes, Coherent correlated states, Utilization of radionu- clides, Microbiological syntrophic association\n",
      "\n",
      "Document Number:  32\n",
      "Abstract:  This research develops the Least Action Nuclear Process (LANP) model of cold fusion, by assuming that the process is thermody- namically reversible. This requires: (1) one element of new physical theory, a far-from-equilibrium black body equation having a second temperature scale and (2) a nuclear reaction selection method based on the Principle of Least Action. The model appears to predict nuclear transmutations observed in Miley’s nickel microspheres, without false positives, and provides a plausible explanation of loading and ignition processes, excess heat, no excess heat, and the absence of gamma radiation. The model shows how solar core temperatures can exist in a laboratory temperature device. This presentation is abstracted from a larger technical paper. © 2014 ISCMNS. All rights reserved. ISSN 2227-3123 Keywords: LANP model, Least action, Reversible process, Theory\n",
      "\n"
     ]
    }
   ],
   "source": [
    "#Abstract\n",
    "abstractList = []\n",
    "\n",
    "for index in range(32):\n",
    "    splittedDoc = data[index].split('\\n')\n",
    "    if(index == 13):\n",
    "        splittedDoc[10] = splittedDoc[10][11:]\n",
    "        abstractList.append(\" \".join(splittedDoc[10:24]))\n",
    "    elif (index == 8 or index == 9 or index == 10 or index == 21):\n",
    "        for i in range(len(splittedDoc)):\n",
    "            if(splittedDoc[i].startswith('Abstract')):\n",
    "                aInd = i\n",
    "            if(splittedDoc[i] == '1. introduction' or splittedDoc[i] == '1. Introduction' or splittedDoc[i] == '1. _lntrnd_uction_' or splittedDoc[i] == 'Introduction' or splittedDoc[i] == '1. INTRODUCTION'  or splittedDoc[i] == '01. Introduction'):\n",
    "                iInd = i\n",
    "        splittedDoc[aInd] = splittedDoc[aInd][10:]\n",
    "        abstractList.append(\" \".join(splittedDoc[aInd:iInd]))\n",
    "    else:\n",
    "        for i in range(len(splittedDoc)):\n",
    "            if(splittedDoc[i] == \"Abstract\" or splittedDoc[i] == \"ABSTRACT\"):\n",
    "                aInd = i\n",
    "            if(splittedDoc[i] == '1. introduction' or splittedDoc[i] == '1. Introduction' or splittedDoc[i] == '1. _lntrnd_uction_' or splittedDoc[i] == 'Introduction' or splittedDoc[i] == '1. INTRODUCTION'  or splittedDoc[i] == '01. Introduction'):\n",
    "                iInd = i\n",
    "        abstractList.append(\" \".join(splittedDoc[aInd+1:iInd]))\n",
    "    \n",
    "\n",
    "for doc in range(len(abstractList)):\n",
    "    print(\"Document Number: \", doc+1)\n",
    "    print(\"Abstract: \", abstractList[doc])\n",
    "    print()"
   ]
  },
  {
   "cell_type": "code",
   "execution_count": 5,
   "metadata": {},
   "outputs": [],
   "source": [
    "#Remove stop words\n",
    "def removeStopWords(pdfText):\n",
    "    #Create tokens\n",
    "    token_list = []\n",
    "    for token in pdfText:\n",
    "        token_list.append(token.text)\n",
    "    \n",
    "    # Create list of word tokens after removing stopwords\n",
    "    filteredText =[] \n",
    "\n",
    "    for word in token_list:\n",
    "        lexeme = nlp.vocab[word]\n",
    "        if lexeme.is_stop == False:\n",
    "            filteredText.append(word)\n",
    "\n",
    "    filteredText = \" \".join(filteredText)\n",
    "    return filteredText"
   ]
  },
  {
   "cell_type": "code",
   "execution_count": 6,
   "metadata": {},
   "outputs": [],
   "source": [
    "# Remove special or unusual characters\n",
    "def removeSpecialOrUnusualCharacters(pdfText):\n",
    "    result = re.sub('[^A-Za-z0-9]+', ' ', pdfText)\n",
    "    result = \" \".join([text for text in result.split(' ') if len(text)>2])\n",
    "    return result"
   ]
  },
  {
   "cell_type": "code",
   "execution_count": 7,
   "metadata": {},
   "outputs": [],
   "source": [
    "#Convert all text to lowercase\n",
    "def convertToLowerCase(pdfText):\n",
    "    token_list = pdfText.split(' ')\n",
    "    result = []\n",
    "    for word in token_list:\n",
    "        result.append(word.lower())\n",
    "        \n",
    "    result = \" \".join(result)\n",
    "    return result"
   ]
  },
  {
   "cell_type": "code",
   "execution_count": 8,
   "metadata": {},
   "outputs": [],
   "source": [
    "#Perform Lemmatization\n",
    "def performLemmatization(pdfText):\n",
    "    filteredText = []\n",
    "    for word in nlp(pdfText):\n",
    "        filteredText.append(word.lemma_)\n",
    "    \n",
    "    filteredText = \" \".join(filteredText)\n",
    "    return filteredText\n"
   ]
  },
  {
   "cell_type": "code",
   "execution_count": 9,
   "metadata": {},
   "outputs": [],
   "source": [
    "def removeNumbers(filteredText):\n",
    "    pattern = r'[0-9]'\n",
    "    filteredTextUpdated = re.sub(pattern, '', filteredText)\n",
    "    return filteredTextUpdated"
   ]
  },
  {
   "cell_type": "markdown",
   "metadata": {},
   "source": [
    "## Data cleaning and preprocessing"
   ]
  },
  {
   "cell_type": "code",
   "execution_count": 11,
   "metadata": {},
   "outputs": [],
   "source": [
    "# Data cleaning\n",
    "cleanedData = []\n",
    "cleanedDataForTFIDF = []\n",
    "for pdfData in data:\n",
    "    pdfText = nlp(pdfData)\n",
    "    \n",
    "    filteredText = removeStopWords(pdfText)\n",
    "    filteredText = removeSpecialOrUnusualCharacters(filteredText)\n",
    "    filteredText = convertToLowerCase(filteredText)\n",
    "    filteredText = removeNumbers(filteredText)\n",
    "    filteredTextForKeyWord = filteredText\n",
    "    filteredText = performLemmatization(filteredText)\n",
    "    \n",
    "    cleanedData.append(filteredText)\n",
    "    cleanedDataForTFIDF.append(filteredTextForKeyWord)"
   ]
  },
  {
   "cell_type": "markdown",
   "metadata": {},
   "source": [
    "### Document Embeddings using Doc2vec"
   ]
  },
  {
   "cell_type": "code",
   "execution_count": null,
   "metadata": {},
   "outputs": [],
   "source": [
    "# Document preProcessing and creating Tagged Documents\n",
    "tagged_data = [TaggedDocument(words=word_tokenize(doc.lower()),tags=[str(i)]) for i, doc in enumerate(cleanedData)]\n",
    "\n",
    "# Training the Doc2vec model\n",
    "model = Doc2Vec(vector_size=60, min_count=2, epochs=50)\n",
    "model.build_vocab(tagged_data)\n",
    "model.train(tagged_data, total_examples=model.corpus_count, epochs=model.epochs)\n",
    "\n",
    "# get the document vectors\n",
    "doc2vecEmbeddings = [model.infer_vector(\n",
    "    word_tokenize(doc.lower())) for doc in cleanedData]\n",
    "\n",
    "#  print the document vectors\n",
    "for i, doc in enumerate(cleanedData):\n",
    "    print(\"Document\", i)\n",
    "    print(\"Vector:\", doc2vecEmbeddings[i])\n",
    "    print()"
   ]
  },
  {
   "cell_type": "markdown",
   "metadata": {},
   "source": [
    "### Sentence Embeddings using Universal Sentence Encoder"
   ]
  },
  {
   "cell_type": "code",
   "execution_count": null,
   "metadata": {},
   "outputs": [],
   "source": [
    "#selecting the universal sentence encoder for embedding\n",
    "embed = hub.load(\"https://tfhub.dev/google/universal-sentence-encoder/4\")\n",
    "sentenceEmbeddings = embed(cleanedData)\n",
    "sentenceEmbeddingsArray = []\n",
    "\n",
    "#  print the document vectors\n",
    "for i, doc in enumerate(cleanedData):\n",
    "    print(\"Document\", i)\n",
    "    print(\"Vector:\", sentenceEmbeddings[i])\n",
    "    sentenceEmbeddingsArray.append(sentenceEmbeddings[i])\n",
    "    print()"
   ]
  },
  {
   "cell_type": "markdown",
   "metadata": {},
   "source": [
    "### 2.b Cosine Similarity for 5 random documents"
   ]
  },
  {
   "cell_type": "code",
   "execution_count": 72,
   "metadata": {},
   "outputs": [
    {
     "name": "stdout",
     "output_type": "stream",
     "text": [
      "20    20\n",
      "26    26\n",
      "3      3\n",
      "22    22\n",
      "6      6\n",
      "dtype: int64\n"
     ]
    }
   ],
   "source": [
    "#Picking 5 random documents from the list\n",
    "docArray = []\n",
    "for i in range(32):\n",
    "    docArray.append(i)\n",
    "\n",
    "randomDocumentSeries = pd.Series(docArray)\n",
    "randomDocuments = randomDocumentSeries.sample(5)\n",
    "print(randomDocuments)\n"
   ]
  },
  {
   "cell_type": "code",
   "execution_count": 73,
   "metadata": {},
   "outputs": [],
   "source": [
    "# Helper Functions for computing cosine similarity\n",
    "def calculateCosineSimilarity(documentMapping, randomEmbeddings):\n",
    "    similarityMatrix = cosine_similarity(randomEmbeddings)\n",
    "\n",
    "    top3Documents = calculateTopDocuments(documentMapping, similarityMatrix, randomEmbeddings)\n",
    "    return top3Documents\n",
    "\n",
    "def calculateTopDocuments(documentMapping, similarityMatrix, randomEmbeddings):\n",
    "    # Flatten the upper triangular part (excluding diagonal)\n",
    "    upper_triangular = np.triu(similarityMatrix, k=1).flatten()\n",
    "\n",
    "    # Get the indices of the top three values\n",
    "    top_indices = np.argpartition(upper_triangular, -3)[-3:]\n",
    "\n",
    "    # Reshape the indices to get the corresponding pairs\n",
    "    i, j = np.unravel_index(top_indices, similarityMatrix.shape)\n",
    "\n",
    "    # Get the embeddings with highest similarity\n",
    "    top_embeddings = [(i[k], j[k]) for k in range(3)]\n",
    "    top_similarity_values = [upper_triangular[index] for index in top_indices]\n",
    "\n",
    "    # Sort the top_embeddings based on their similarity values\n",
    "    sorted_top_embeddings = sorted(zip(top_embeddings, top_similarity_values), key=lambda x: x[1], reverse=True)\n",
    "\n",
    "\n",
    "    documentResultMap = []\n",
    "\n",
    "    print(\"Top Embeddings Sorted by Cosine Similarity:\")\n",
    "    for (i, j), similarity_value in sorted_top_embeddings:\n",
    "        # print(f\"Embeddings {i} and {j}: Similarity Value = {similarity_value:.2f}\")\n",
    "        doc1 = documentMapping[str(randomEmbeddings[i])]\n",
    "        doc2 = documentMapping[str(randomEmbeddings[j])]\n",
    "        documentResultMap.append({doc1+1, doc2+1})\n",
    "\n",
    "    return documentResultMap"
   ]
  },
  {
   "cell_type": "code",
   "execution_count": 74,
   "metadata": {},
   "outputs": [
    {
     "name": "stdout",
     "output_type": "stream",
     "text": [
      "Top Embeddings Sorted by Cosine Similarity:\n",
      "Doc2Vec Embeddings picks these three documents as similar:  [{7, 23}, {4, 23}, {4, 21}]\n"
     ]
    }
   ],
   "source": [
    "# Calculating cosine similarity and finding out top 3 documents for Doc2vec Embeddings\n",
    "randomEmbeddings = []\n",
    "documentMapping = {}\n",
    "for key, value in randomDocuments.items():\n",
    "    documentMapping[str(doc2vecEmbeddings[key])] = key\n",
    "    randomEmbeddings.append(doc2vecEmbeddings[key])\n",
    "\n",
    "doc2vecDocumentList = calculateCosineSimilarity(documentMapping, randomEmbeddings)\n",
    "\n",
    "print(\"Doc2Vec Embeddings picks these three documents as similar: \", doc2vecDocumentList)\n"
   ]
  },
  {
   "cell_type": "code",
   "execution_count": 75,
   "metadata": {},
   "outputs": [
    {
     "name": "stdout",
     "output_type": "stream",
     "text": [
      "Top Embeddings Sorted by Cosine Similarity:\n",
      "Universal Sentence Encoder Embeddings picks these three documents as similar:  [{27, 21}, {21, 7}, {27, 7}]\n"
     ]
    }
   ],
   "source": [
    "# Calculating cosine similarity and finding out top 3 documents for Universal Sentence Embeddings\n",
    "randomEmbeddings = []\n",
    "documentMapping = {}\n",
    "for key, value in randomDocuments.items():\n",
    "    documentMapping[str(sentenceEmbeddingsArray[key])] = key\n",
    "    randomEmbeddings.append(sentenceEmbeddingsArray[key])\n",
    "\n",
    "universalEncoderDocumentList = calculateCosineSimilarity(documentMapping, randomEmbeddings)\n",
    "\n",
    "print(\"Universal Sentence Encoder Embeddings picks these three documents as similar: \", universalEncoderDocumentList)\n"
   ]
  },
  {
   "cell_type": "markdown",
   "metadata": {},
   "source": [
    "## Dimensionality Reduction"
   ]
  },
  {
   "cell_type": "code",
   "execution_count": 18,
   "metadata": {},
   "outputs": [],
   "source": [
    "# Common function for performing dimensionality reduction using Principal Component Analysis (PCA)\n",
    "def performPCA(embeddings):\n",
    "    # number of components\n",
    "    pca = PCA(n_components=30)\n",
    "\n",
    "    # Fit the PCA model to your data\n",
    "    pca.fit(embeddings)\n",
    "\n",
    "    # Transform your data to the first two principal components\n",
    "    transformedEmbeddings = pca.transform(embeddings)\n",
    "    return transformedEmbeddings"
   ]
  },
  {
   "cell_type": "code",
   "execution_count": null,
   "metadata": {},
   "outputs": [],
   "source": [
    "# Dimensionality Reduction for Doc2Vec Embeddings\n",
    "doc2vecEmbeddingsTransformed = performPCA(doc2vecEmbeddings)\n",
    "print(doc2vecEmbeddingsTransformed)"
   ]
  },
  {
   "cell_type": "code",
   "execution_count": null,
   "metadata": {},
   "outputs": [],
   "source": [
    "# Dimensionality Reduction for Universal Sentence Encoder Embeddings\n",
    "sentenceEmbeddingsTransformed = performPCA(sentenceEmbeddings)\n",
    "print(sentenceEmbeddingsTransformed)"
   ]
  },
  {
   "cell_type": "markdown",
   "metadata": {},
   "source": [
    "## Data Clustering"
   ]
  },
  {
   "cell_type": "markdown",
   "metadata": {},
   "source": [
    "### Determining Optimal number of clusters for Universal Sentence Encoder using Elbow Method"
   ]
  },
  {
   "cell_type": "code",
   "execution_count": 21,
   "metadata": {},
   "outputs": [
    {
     "name": "stderr",
     "output_type": "stream",
     "text": [
      "/Users/namanlalit/anaconda3/envs/topicPA/lib/python3.11/site-packages/sklearn/cluster/_kmeans.py:1416: FutureWarning: The default value of `n_init` will change from 10 to 'auto' in 1.4. Set the value of `n_init` explicitly to suppress the warning\n",
      "  super()._check_params_vs_input(X, default_n_init=10)\n"
     ]
    },
    {
     "name": "stderr",
     "output_type": "stream",
     "text": [
      "/Users/namanlalit/anaconda3/envs/topicPA/lib/python3.11/site-packages/sklearn/cluster/_kmeans.py:1416: FutureWarning: The default value of `n_init` will change from 10 to 'auto' in 1.4. Set the value of `n_init` explicitly to suppress the warning\n",
      "  super()._check_params_vs_input(X, default_n_init=10)\n",
      "/Users/namanlalit/anaconda3/envs/topicPA/lib/python3.11/site-packages/sklearn/cluster/_kmeans.py:1416: FutureWarning: The default value of `n_init` will change from 10 to 'auto' in 1.4. Set the value of `n_init` explicitly to suppress the warning\n",
      "  super()._check_params_vs_input(X, default_n_init=10)\n",
      "/Users/namanlalit/anaconda3/envs/topicPA/lib/python3.11/site-packages/sklearn/cluster/_kmeans.py:1416: FutureWarning: The default value of `n_init` will change from 10 to 'auto' in 1.4. Set the value of `n_init` explicitly to suppress the warning\n",
      "  super()._check_params_vs_input(X, default_n_init=10)\n",
      "/Users/namanlalit/anaconda3/envs/topicPA/lib/python3.11/site-packages/sklearn/cluster/_kmeans.py:1416: FutureWarning: The default value of `n_init` will change from 10 to 'auto' in 1.4. Set the value of `n_init` explicitly to suppress the warning\n",
      "  super()._check_params_vs_input(X, default_n_init=10)\n",
      "/Users/namanlalit/anaconda3/envs/topicPA/lib/python3.11/site-packages/sklearn/cluster/_kmeans.py:1416: FutureWarning: The default value of `n_init` will change from 10 to 'auto' in 1.4. Set the value of `n_init` explicitly to suppress the warning\n",
      "  super()._check_params_vs_input(X, default_n_init=10)\n",
      "/Users/namanlalit/anaconda3/envs/topicPA/lib/python3.11/site-packages/sklearn/cluster/_kmeans.py:1416: FutureWarning: The default value of `n_init` will change from 10 to 'auto' in 1.4. Set the value of `n_init` explicitly to suppress the warning\n",
      "  super()._check_params_vs_input(X, default_n_init=10)\n",
      "/Users/namanlalit/anaconda3/envs/topicPA/lib/python3.11/site-packages/sklearn/cluster/_kmeans.py:1416: FutureWarning: The default value of `n_init` will change from 10 to 'auto' in 1.4. Set the value of `n_init` explicitly to suppress the warning\n",
      "  super()._check_params_vs_input(X, default_n_init=10)\n"
     ]
    },
    {
     "data": {
      "image/png": "[encoded data removed]",
      "text/plain": [
       "<Figure size 800x600 with 1 Axes>"
      ]
     },
     "metadata": {},
     "output_type": "display_data"
    }
   ],
   "source": [
    "# Define a range of K values to test\n",
    "k_values = list(range(2,10))  # Adjust the range as needed\n",
    "\n",
    "# Initialize an empty list to store the inertia values\n",
    "inertia = []\n",
    "\n",
    "# Fit K-means models and calculate inertia for each K\n",
    "for k in k_values:\n",
    "    kmeans = KMeans(n_clusters=k, random_state=42)\n",
    "    kmeans.fit(sentenceEmbeddingsTransformed)  # Replace 'embeddings' with your data\n",
    "    inertia.append(kmeans.inertia_)\n",
    "\n",
    "plt.figure(figsize=(8, 6))\n",
    "plt.plot(k_values, inertia, marker='o', linestyle='-', color='b')\n",
    "plt.title('Elbow Method for Optimal K for Universal Sentence Encoder Embeddings')\n",
    "plt.xlabel('Number of Clusters (K)')\n",
    "plt.ylabel('Inertia')\n",
    "plt.grid()\n",
    "plt.show()"
   ]
  },
  {
   "cell_type": "code",
   "execution_count": 22,
   "metadata": {},
   "outputs": [],
   "source": [
    "# Based on the graph plotted above, the optimal number of clusters are 15\n",
    "OptimalClustersForUniversalSentenceEncoder = 6"
   ]
  },
  {
   "cell_type": "markdown",
   "metadata": {},
   "source": [
    "### Determining Number of clusters for Doc2Vec Embeddings using Elbow Method"
   ]
  },
  {
   "cell_type": "code",
   "execution_count": 23,
   "metadata": {},
   "outputs": [
    {
     "name": "stderr",
     "output_type": "stream",
     "text": [
      "/Users/namanlalit/anaconda3/envs/topicPA/lib/python3.11/site-packages/sklearn/cluster/_kmeans.py:1416: FutureWarning: The default value of `n_init` will change from 10 to 'auto' in 1.4. Set the value of `n_init` explicitly to suppress the warning\n",
      "  super()._check_params_vs_input(X, default_n_init=10)\n",
      "/Users/namanlalit/anaconda3/envs/topicPA/lib/python3.11/site-packages/sklearn/cluster/_kmeans.py:1416: FutureWarning: The default value of `n_init` will change from 10 to 'auto' in 1.4. Set the value of `n_init` explicitly to suppress the warning\n",
      "  super()._check_params_vs_input(X, default_n_init=10)\n",
      "/Users/namanlalit/anaconda3/envs/topicPA/lib/python3.11/site-packages/sklearn/cluster/_kmeans.py:1416: FutureWarning: The default value of `n_init` will change from 10 to 'auto' in 1.4. Set the value of `n_init` explicitly to suppress the warning\n",
      "  super()._check_params_vs_input(X, default_n_init=10)\n",
      "/Users/namanlalit/anaconda3/envs/topicPA/lib/python3.11/site-packages/sklearn/cluster/_kmeans.py:1416: FutureWarning: The default value of `n_init` will change from 10 to 'auto' in 1.4. Set the value of `n_init` explicitly to suppress the warning\n",
      "  super()._check_params_vs_input(X, default_n_init=10)\n",
      "/Users/namanlalit/anaconda3/envs/topicPA/lib/python3.11/site-packages/sklearn/cluster/_kmeans.py:1416: FutureWarning: The default value of `n_init` will change from 10 to 'auto' in 1.4. Set the value of `n_init` explicitly to suppress the warning\n",
      "  super()._check_params_vs_input(X, default_n_init=10)\n",
      "/Users/namanlalit/anaconda3/envs/topicPA/lib/python3.11/site-packages/sklearn/cluster/_kmeans.py:1416: FutureWarning: The default value of `n_init` will change from 10 to 'auto' in 1.4. Set the value of `n_init` explicitly to suppress the warning\n",
      "  super()._check_params_vs_input(X, default_n_init=10)\n",
      "/Users/namanlalit/anaconda3/envs/topicPA/lib/python3.11/site-packages/sklearn/cluster/_kmeans.py:1416: FutureWarning: The default value of `n_init` will change from 10 to 'auto' in 1.4. Set the value of `n_init` explicitly to suppress the warning\n",
      "  super()._check_params_vs_input(X, default_n_init=10)\n",
      "/Users/namanlalit/anaconda3/envs/topicPA/lib/python3.11/site-packages/sklearn/cluster/_kmeans.py:1416: FutureWarning: The default value of `n_init` will change from 10 to 'auto' in 1.4. Set the value of `n_init` explicitly to suppress the warning\n",
      "  super()._check_params_vs_input(X, default_n_init=10)\n"
     ]
    },
    {
     "data": {
      "image/png": "[encoded data removed]",
      "text/plain": [
       "<Figure size 800x600 with 1 Axes>"
      ]
     },
     "metadata": {},
     "output_type": "display_data"
    }
   ],
   "source": [
    "# Define a range of K values to test\n",
    "k_values = list(range(2,10))  # Adjust the range as needed\n",
    "\n",
    "# Initialize an empty list to store the inertia values\n",
    "inertia = []\n",
    "\n",
    "# Fit K-means models and calculate inertia for each K\n",
    "for k in k_values:\n",
    "    kmeans = KMeans(n_clusters=k, random_state=42)\n",
    "    kmeans.fit(doc2vecEmbeddingsTransformed)  # Replace 'embeddings' with your data\n",
    "    inertia.append(kmeans.inertia_)\n",
    "\n",
    "plt.figure(figsize=(8, 6))\n",
    "plt.plot(k_values, inertia, marker='o', linestyle='-', color='b')\n",
    "plt.title('Elbow Method for Optimal K for Doc2Vec Embeddings')\n",
    "plt.xlabel('Number of Clusters (K)')\n",
    "plt.ylabel('Inertia')\n",
    "plt.grid()\n",
    "plt.show()"
   ]
  },
  {
   "cell_type": "code",
   "execution_count": 24,
   "metadata": {},
   "outputs": [],
   "source": [
    "# Based on the graph plotted above, the optimal number of clusters are 15\n",
    "OptimalClustersForDoc2VecEmbeddings = 5"
   ]
  },
  {
   "cell_type": "markdown",
   "metadata": {},
   "source": [
    "##### Helper functions for clustering"
   ]
  },
  {
   "cell_type": "code",
   "execution_count": 25,
   "metadata": {},
   "outputs": [],
   "source": [
    "def calculateDistanceBetweenEmbeddings(embeddings, centroidEmbeddings, clusterLabelValues):\n",
    "    result = []\n",
    "    for values in clusterLabelValues:\n",
    "        docNumber = values[0]\n",
    "        if(len(values) > 1):\n",
    "            docNumber = values[1]\n",
    "        euclDistance = np.linalg.norm(embeddings[docNumber] - centroidEmbeddings)\n",
    "        result.append([euclDistance, docNumber])\n",
    "    \n",
    "    # Sort the list in descending order based on the first value of each sub-array\n",
    "    result = sorted(result, key=lambda x: x[0], reverse=True)\n",
    "    return result"
   ]
  },
  {
   "cell_type": "code",
   "execution_count": 26,
   "metadata": {},
   "outputs": [],
   "source": [
    "def performKMeansClusteringAndLabelMapping(numberOfClusters, embeddings):\n",
    "    kmeans = KMeans(n_clusters=numberOfClusters, random_state=42)\n",
    "    cluster_labels = kmeans.fit_predict(embeddings)\n",
    "\n",
    "    clusterCentroids = kmeans.cluster_centers_\n",
    "\n",
    "    # Generating the cluster to document mapping\n",
    "    clusterLabelToDocumentMapping = {}\n",
    "    for i in range(numberOfClusters):\n",
    "        clusterLabelToDocumentMapping[i] = []\n",
    "\n",
    "    for i in range(len(cluster_labels)):\n",
    "        clusterLabelToDocumentMapping[cluster_labels[i]].append([0, i])\n",
    "\n",
    "    # Calculating distance between the centroids and each cluster embeddings\n",
    "    for i in range(numberOfClusters):\n",
    "        clusterLabelToDocumentMapping[i] = calculateDistanceBetweenEmbeddings(embeddings, clusterCentroids[i], clusterLabelToDocumentMapping[i])\n",
    "\n",
    "    return clusterLabelToDocumentMapping"
   ]
  },
  {
   "cell_type": "code",
   "execution_count": 27,
   "metadata": {},
   "outputs": [],
   "source": [
    "def getTopThreeDocumentsClusters(clusterLabelToDocumentMapping):\n",
    "    # Pick the top 3 documents for each cluster\n",
    "    clusterLabelToDocumentMappingFiltered = {}\n",
    "    for key, value in clusterLabelToDocumentMapping.items():\n",
    "        clusterLabelToDocumentMappingFiltered[key] = value[: min(len(value), 3)]\n",
    "\n",
    "    return clusterLabelToDocumentMappingFiltered\n"
   ]
  },
  {
   "cell_type": "code",
   "execution_count": 63,
   "metadata": {},
   "outputs": [],
   "source": [
    "def generateCSVFileData(clusterLabelMapping):\n",
    "    dataDict = {\n",
    "        \"Cluster number\": [],\n",
    "        \"Representative Documents\": []\n",
    "    }\n",
    "    for key, value in clusterLabelMapping.items():\n",
    "        docData = []\n",
    "        for index in range(len(value)):\n",
    "            docNumber = value[index][1]\n",
    "            title = titleList[docNumber]\n",
    "            abstract = abstractList[docNumber]\n",
    "            docData.append(title + \" \" + abstract)\n",
    "        dataDict[\"Cluster number\"].append(key)\n",
    "        dataDict[\"Representative Documents\"].append(docData)\n",
    "    return pd.DataFrame(dataDict)"
   ]
  },
  {
   "cell_type": "markdown",
   "metadata": {},
   "source": [
    "### Running K-Means Clustering Algorithm for both the Embeddings (Universal Sentence Encoder and Doc2Vec)"
   ]
  },
  {
   "cell_type": "code",
   "execution_count": 64,
   "metadata": {},
   "outputs": [
    {
     "name": "stderr",
     "output_type": "stream",
     "text": [
      "/Users/namanlalit/anaconda3/envs/topicPA/lib/python3.11/site-packages/sklearn/cluster/_kmeans.py:1416: FutureWarning: The default value of `n_init` will change from 10 to 'auto' in 1.4. Set the value of `n_init` explicitly to suppress the warning\n",
      "  super()._check_params_vs_input(X, default_n_init=10)\n"
     ]
    },
    {
     "data": {
      "text/html": [
       "<div>\n",
       "<style scoped>\n",
       "    .dataframe tbody tr th:only-of-type {\n",
       "        vertical-align: middle;\n",
       "    }\n",
       "\n",
       "    .dataframe tbody tr th {\n",
       "        vertical-align: top;\n",
       "    }\n",
       "\n",
       "    .dataframe thead th {\n",
       "        text-align: right;\n",
       "    }\n",
       "</style>\n",
       "<table border=\"1\" class=\"dataframe\">\n",
       "  <thead>\n",
       "    <tr style=\"text-align: right;\">\n",
       "      <th></th>\n",
       "      <th>Cluster number</th>\n",
       "      <th>Representative Documents</th>\n",
       "    </tr>\n",
       "  </thead>\n",
       "  <tbody>\n",
       "    <tr>\n",
       "      <th>0</th>\n",
       "      <td>0</td>\n",
       "      <td>[Multifunctional Ion Beam Installation “HELIS”...</td>\n",
       "    </tr>\n",
       "    <tr>\n",
       "      <th>1</th>\n",
       "      <td>1</td>\n",
       "      <td>[Electromagnetic Emission in the kHz to GHz Ra...</td>\n",
       "    </tr>\n",
       "    <tr>\n",
       "      <th>2</th>\n",
       "      <td>2</td>\n",
       "      <td>[Nickel Transmutation and Excess Heat Model us...</td>\n",
       "    </tr>\n",
       "    <tr>\n",
       "      <th>3</th>\n",
       "      <td>3</td>\n",
       "      <td>[Upper Bound in the Fusion Products and Transm...</td>\n",
       "    </tr>\n",
       "    <tr>\n",
       "      <th>4</th>\n",
       "      <td>4</td>\n",
       "      <td>[RESEARCH INTO CHARACTERISTICS OF X-RAY EMISSI...</td>\n",
       "    </tr>\n",
       "    <tr>\n",
       "      <th>5</th>\n",
       "      <td>5</td>\n",
       "      <td>[Is the Abundance of Elements in Earth’s Crust...</td>\n",
       "    </tr>\n",
       "  </tbody>\n",
       "</table>\n",
       "</div>"
      ],
      "text/plain": [
       "   Cluster number                           Representative Documents\n",
       "0               0  [Multifunctional Ion Beam Installation “HELIS”...\n",
       "1               1  [Electromagnetic Emission in the kHz to GHz Ra...\n",
       "2               2  [Nickel Transmutation and Excess Heat Model us...\n",
       "3               3  [Upper Bound in the Fusion Products and Transm...\n",
       "4               4  [RESEARCH INTO CHARACTERISTICS OF X-RAY EMISSI...\n",
       "5               5  [Is the Abundance of Elements in Earth’s Crust..."
      ]
     },
     "execution_count": 64,
     "metadata": {},
     "output_type": "execute_result"
    }
   ],
   "source": [
    "# Generating the clusters for Universal Sentence Encoder\n",
    "clusterLabelToDocumentMapUSE = performKMeansClusteringAndLabelMapping(OptimalClustersForUniversalSentenceEncoder, sentenceEmbeddingsTransformed)\n",
    "clusterLabelMapForSentenceEmbeddings = getTopThreeDocumentsClusters(clusterLabelToDocumentMapUSE)\n",
    "# print(clusterLabelMapForSentenceEmbeddings)\n",
    "\n",
    "\n",
    "\n",
    "# Output the clusters in the CSV File\n",
    "sentenceEncoderdf = generateCSVFileData(clusterLabelMapForSentenceEmbeddings)\n",
    "sentenceEncoderdf"
   ]
  },
  {
   "cell_type": "code",
   "execution_count": 65,
   "metadata": {},
   "outputs": [
    {
     "name": "stderr",
     "output_type": "stream",
     "text": [
      "/Users/namanlalit/anaconda3/envs/topicPA/lib/python3.11/site-packages/sklearn/cluster/_kmeans.py:1416: FutureWarning: The default value of `n_init` will change from 10 to 'auto' in 1.4. Set the value of `n_init` explicitly to suppress the warning\n",
      "  super()._check_params_vs_input(X, default_n_init=10)\n"
     ]
    },
    {
     "data": {
      "text/html": [
       "<div>\n",
       "<style scoped>\n",
       "    .dataframe tbody tr th:only-of-type {\n",
       "        vertical-align: middle;\n",
       "    }\n",
       "\n",
       "    .dataframe tbody tr th {\n",
       "        vertical-align: top;\n",
       "    }\n",
       "\n",
       "    .dataframe thead th {\n",
       "        text-align: right;\n",
       "    }\n",
       "</style>\n",
       "<table border=\"1\" class=\"dataframe\">\n",
       "  <thead>\n",
       "    <tr style=\"text-align: right;\">\n",
       "      <th></th>\n",
       "      <th>Cluster number</th>\n",
       "      <th>Representative Documents</th>\n",
       "    </tr>\n",
       "  </thead>\n",
       "  <tbody>\n",
       "    <tr>\n",
       "      <th>0</th>\n",
       "      <td>0</td>\n",
       "      <td>[LENR Transmutation of Stable Sr and K Isotope...</td>\n",
       "    </tr>\n",
       "    <tr>\n",
       "      <th>1</th>\n",
       "      <td>1</td>\n",
       "      <td>[Nickel Transmutation and Excess Heat Model us...</td>\n",
       "    </tr>\n",
       "    <tr>\n",
       "      <th>2</th>\n",
       "      <td>2</td>\n",
       "      <td>[Integrated approach for high resolution surfa...</td>\n",
       "    </tr>\n",
       "    <tr>\n",
       "      <th>3</th>\n",
       "      <td>3</td>\n",
       "      <td>[Excess Heat Production and Nuclear Ash in PdO...</td>\n",
       "    </tr>\n",
       "    <tr>\n",
       "      <th>4</th>\n",
       "      <td>4</td>\n",
       "      <td>[EXCESS HEAT PRODUCTION IN Pd/D DURING PERIODI...</td>\n",
       "    </tr>\n",
       "  </tbody>\n",
       "</table>\n",
       "</div>"
      ],
      "text/plain": [
       "   Cluster number                           Representative Documents\n",
       "0               0  [LENR Transmutation of Stable Sr and K Isotope...\n",
       "1               1  [Nickel Transmutation and Excess Heat Model us...\n",
       "2               2  [Integrated approach for high resolution surfa...\n",
       "3               3  [Excess Heat Production and Nuclear Ash in PdO...\n",
       "4               4  [EXCESS HEAT PRODUCTION IN Pd/D DURING PERIODI..."
      ]
     },
     "execution_count": 65,
     "metadata": {},
     "output_type": "execute_result"
    }
   ],
   "source": [
    "# Generating the clusters for Doc2Vec\n",
    "clusterLabelToDocumentMapDoc2Vec = performKMeansClusteringAndLabelMapping(OptimalClustersForDoc2VecEmbeddings, doc2vecEmbeddingsTransformed)\n",
    "clusterLabelMapForDoc2VecEmbeddings = getTopThreeDocumentsClusters(clusterLabelToDocumentMapDoc2Vec)\n",
    "\n",
    "\n",
    "# Output the clusters in the CSV File\n",
    "doc2Vecdf = generateCSVFileData(clusterLabelMapForDoc2VecEmbeddings)\n",
    "doc2Vecdf"
   ]
  },
  {
   "cell_type": "markdown",
   "metadata": {},
   "source": [
    "### Visualising the Clusters"
   ]
  },
  {
   "cell_type": "markdown",
   "metadata": {},
   "source": [
    "#### Universal Sentence Encoded Documents Visualisation"
   ]
  },
  {
   "cell_type": "code",
   "execution_count": 50,
   "metadata": {},
   "outputs": [
    {
     "name": "stderr",
     "output_type": "stream",
     "text": [
      "/Users/namanlalit/anaconda3/envs/topicPA/lib/python3.11/site-packages/sklearn/cluster/_kmeans.py:1416: FutureWarning: The default value of `n_init` will change from 10 to 'auto' in 1.4. Set the value of `n_init` explicitly to suppress the warning\n",
      "  super()._check_params_vs_input(X, default_n_init=10)\n"
     ]
    },
    {
     "data": {
      "text/plain": [
       "Text(0.5, 1.0, 'Visualization of Universal Sentence Encoder Documents')"
      ]
     },
     "execution_count": 50,
     "metadata": {},
     "output_type": "execute_result"
    },
    {
     "data": {
      "image/png": "[encoded data removed]",
      "text/plain": [
       "<Figure size 1200x600 with 1 Axes>"
      ]
     },
     "metadata": {},
     "output_type": "display_data"
    }
   ],
   "source": [
    "# Plotting the TSNE for Universal Sentence Encoder\n",
    "kmeansUSE = KMeans(n_clusters=OptimalClustersForUniversalSentenceEncoder, random_state=42)\n",
    "cluster_labels_use = kmeansUSE.fit_predict(sentenceEmbeddingsTransformed)\n",
    "\n",
    "\n",
    "Xtsne = TSNE(n_components=2).fit_transform(sentenceEmbeddingsTransformed)\n",
    "dftsne = pd.DataFrame(Xtsne)\n",
    "dftsne['cluster'] = cluster_labels_use\n",
    "dftsne.columns = ['X1', 'X2' ,'cluster']\n",
    "fig, ax = plt.subplots(1, 1, figsize=(12,6))\n",
    "custom_palette = {0: \"red\", 1: \"green\", 2: \"blue\", 3: \"yellow\", 4: \"black\", 5: \"pink\"}\n",
    "sns.scatterplot(data=dftsne,x='X1',y='X2',hue='cluster',legend=\"full\",alpha=1,ax=ax, palette=custom_palette)\n",
    "ax.set_title('Visualization of Universal Sentence Encoder Documents')"
   ]
  },
  {
   "cell_type": "markdown",
   "metadata": {},
   "source": [
    "#### Doc2Vec Embedded Documents Visualisation"
   ]
  },
  {
   "cell_type": "code",
   "execution_count": 51,
   "metadata": {},
   "outputs": [
    {
     "name": "stderr",
     "output_type": "stream",
     "text": [
      "/Users/namanlalit/anaconda3/envs/topicPA/lib/python3.11/site-packages/sklearn/cluster/_kmeans.py:1416: FutureWarning: The default value of `n_init` will change from 10 to 'auto' in 1.4. Set the value of `n_init` explicitly to suppress the warning\n",
      "  super()._check_params_vs_input(X, default_n_init=10)\n"
     ]
    },
    {
     "data": {
      "text/plain": [
       "Text(0.5, 1.0, 'Visualization of Doc2Vec Embedded Documents')"
      ]
     },
     "execution_count": 51,
     "metadata": {},
     "output_type": "execute_result"
    },
    {
     "data": {
      "image/png": "[encoded data removed]",
      "text/plain": [
       "<Figure size 1200x600 with 1 Axes>"
      ]
     },
     "metadata": {},
     "output_type": "display_data"
    }
   ],
   "source": [
    "# Plotting the TSNE for Doc2Vec\n",
    "kmeansDoc2Vec = KMeans(n_clusters=OptimalClustersForDoc2VecEmbeddings, random_state=42)\n",
    "cluster_labels_doc2vec = kmeansDoc2Vec.fit_predict(doc2vecEmbeddingsTransformed)\n",
    "\n",
    "\n",
    "Xtsne = TSNE(n_components=2).fit_transform(doc2vecEmbeddingsTransformed)\n",
    "dftsne = pd.DataFrame(Xtsne)\n",
    "dftsne['cluster'] = cluster_labels_doc2vec\n",
    "dftsne.columns = ['X1', 'X2' ,'cluster']\n",
    "fig, ax = plt.subplots(1, 1, figsize=(12,6))\n",
    "custom_palette = {0: \"red\", 1: \"green\", 2: \"blue\", 3: \"yellow\", 4: \"black\"}\n",
    "sns.scatterplot(data=dftsne,x='X1',y='X2',hue='cluster',legend=\"full\",alpha=1,ax=ax, palette=custom_palette)\n",
    "ax.set_title('Visualization of Doc2Vec Embedded Documents')"
   ]
  },
  {
   "cell_type": "markdown",
   "metadata": {},
   "source": [
    "## Applying TF-IDF on the clusters"
   ]
  },
  {
   "cell_type": "code",
   "execution_count": 52,
   "metadata": {},
   "outputs": [],
   "source": [
    "# Generate TF-IDF matrix\n",
    "def generateTfIdfMatrix(clusterLabelMap):\n",
    "    tfIdfMatrix = []\n",
    "    for key, value in clusterLabelMap.items():\n",
    "        tfIdfData = \"\"\n",
    "        for index in range(len(value)):\n",
    "            docNumber = value[index][1]\n",
    "            tfIdfData += (\" \" + cleanedDataForTFIDF[docNumber])\n",
    "        tfIdfMatrix.append(tfIdfData)\n",
    "    return tfIdfMatrix"
   ]
  },
  {
   "cell_type": "code",
   "execution_count": 53,
   "metadata": {},
   "outputs": [],
   "source": [
    "# Function to generate the top keywords using tfIdf\n",
    "def getTopKeywordsFromClusters(tfIdfMatrix):\n",
    "  vectorizer = TfidfVectorizer(use_idf=True, max_df=0.5,min_df=1, ngram_range=(1,3))\n",
    "  vectors = vectorizer.fit_transform(tfIdfMatrix)\n",
    "\n",
    "  dict_of_tokens={i[1]:i[0] for i in vectorizer.vocabulary_.items()}\n",
    "  tfidf_vectors = []  # all deoc vectors by tfidf\n",
    "  for row in vectors:\n",
    "    tfidf_vectors.append({dict_of_tokens[column]:value for (column,value) in zip(row.indices,row.data)})\n",
    "\n",
    "\n",
    "  doc_sorted_tfidfs =[]  # list of doc features each with tfidf weight\n",
    "  #sort each dict of a document\n",
    "  for dn in tfidf_vectors:\n",
    "    newD = sorted(dn.items(), key=lambda x: x[1], reverse=True)\n",
    "    newD = dict(newD)\n",
    "    doc_sorted_tfidfs.append(newD)\n",
    "\n",
    "\n",
    "  tfidf_kw = [] # get the keyphrases as a list of names without tfidf values\n",
    "  for doc_tfidf in doc_sorted_tfidfs:\n",
    "      ll = list(doc_tfidf.keys())\n",
    "      tfidf_kw.append(ll)\n",
    "\n",
    "  return tfidf_kw\n"
   ]
  },
  {
   "cell_type": "markdown",
   "metadata": {},
   "source": [
    "#### Generate Top Keywords for Universal Sentence Encoder Embedded Data Clusters"
   ]
  },
  {
   "cell_type": "code",
   "execution_count": 61,
   "metadata": {},
   "outputs": [
    {
     "name": "stdout",
     "output_type": "stream",
     "text": [
      "Cluster number:  0\n",
      "Top 6 Keywords:  ['pdo', 'track', 'track diameter', 'detector', 'alpha', 'tidx']\n",
      "Cluster number:  1\n",
      "Top 6 Keywords:  ['frequencies', 'ghz', 'ni', 'cells', 'application', 'dwc']\n",
      "Cluster number:  2\n",
      "Top 6 Keywords:  ['ni', 'sn', 'reversible', 'equilibrium', 'lanp', 'ppm']\n",
      "Cluster number:  3\n",
      "Top 6 Keywords:  ['graphite', 'cop', 'kanthal', 'chl', 'loss', 'ni']\n",
      "Cluster number:  4\n",
      "Top 6 Keywords:  ['discharge', 'plasma electrolysis', 'input voltage', 'laser', 'glow discharge', 'glow']\n",
      "Cluster number:  5\n",
      "Top 6 Keywords:  ['earth', 'abundance', 'correlation', 'data sets', 'transmutation data', 'ho']\n"
     ]
    }
   ],
   "source": [
    "tfIdfMatrixUSE = generateTfIdfMatrix(clusterLabelMapForSentenceEmbeddings)\n",
    "topKeywordForUSE = getTopKeywordsFromClusters(tfIdfMatrixUSE)\n",
    "\n",
    "for ind in range(len(topKeywordForUSE)):\n",
    "    print(\"Cluster number: \", ind)\n",
    "    print(\"Top 6 Keywords: \", topKeywordForUSE[ind][0:6])"
   ]
  },
  {
   "cell_type": "code",
   "execution_count": 70,
   "metadata": {},
   "outputs": [],
   "source": [
    "topKeywordForUSE = [x[0:6] for x in topKeywordForUSE]\n",
    "sentenceEncoderdf[\"Top Keywords\"] = topKeywordForUSE\n",
    "sentenceEncoderdf.to_csv(\"cluster_info_universalSentenceEncoder.csv\", index = False)"
   ]
  },
  {
   "cell_type": "markdown",
   "metadata": {},
   "source": [
    "#### Generate Top Keywords for Doc2Vec Embedded Data Clusters"
   ]
  },
  {
   "cell_type": "code",
   "execution_count": 68,
   "metadata": {},
   "outputs": [
    {
     "name": "stdout",
     "output_type": "stream",
     "text": [
      "Cluster number:  0\n",
      "Top 6 Keywords:  ['association', 'calcium', 'isotope', 'biomass', 'vysotskii', 'kornilova']\n",
      "Cluster number:  1\n",
      "Top 6 Keywords:  ['he', 'femto', 'ni', 'decay', 'sn', 'pd']\n",
      "Cluster number:  2\n",
      "Top 6 Keywords:  ['excess power', 'fib', 'nano', 'electrolyte', 'application', 'cop']\n",
      "Cluster number:  3\n",
      "Top 6 Keywords:  ['pdo', 'track diameter', 'track', 'detector', 'alpha', 'detectors']\n",
      "Cluster number:  4\n",
      "Top 6 Keywords:  ['discharge current', 'rays', 'medium', 'laser', 'ray laser', 'bursts']\n"
     ]
    }
   ],
   "source": [
    "tfIdfMatrixDoc2Vec = generateTfIdfMatrix(clusterLabelMapForDoc2VecEmbeddings)\n",
    "topKeywordForDoc2Vec = getTopKeywordsFromClusters(tfIdfMatrixDoc2Vec)\n",
    "\n",
    "for ind in range(len(topKeywordForDoc2Vec)):\n",
    "    print(\"Cluster number: \", ind)\n",
    "    print(\"Top 6 Keywords: \", topKeywordForDoc2Vec[ind][0:6])"
   ]
  },
  {
   "cell_type": "code",
   "execution_count": 71,
   "metadata": {},
   "outputs": [],
   "source": [
    "topKeywordForDoc2Vec = [x[0:6] for x in topKeywordForDoc2Vec]\n",
    "doc2Vecdf[\"Top Keywords\"] = topKeywordForDoc2Vec\n",
    "doc2Vecdf.to_csv(\"cluster_info_doc2vec.csv\", index = False)"
   ]
  },
  {
   "cell_type": "markdown",
   "metadata": {},
   "source": [
    "### Generating the Topic Representations using ChatGPT API"
   ]
  },
  {
   "cell_type": "code",
   "execution_count": 98,
   "metadata": {},
   "outputs": [],
   "source": [
    "openai.api_key = \"test\"\n",
    "\n",
    "def get_completion(prompt, model=\"gpt-3.5-turbo\"):\n",
    "    messages = [{\"role\": \"user\", \"content\": prompt}]\n",
    "    response = openai.ChatCompletion.create(\n",
    "        model=model,\n",
    "        messages=messages,\n",
    "        temperature=0\n",
    "    )\n",
    "    return response.choices[0].message[\"content\"]"
   ]
  },
  {
   "cell_type": "markdown",
   "metadata": {},
   "source": [
    "#### Doc2Vec Embeddings Topic Representations"
   ]
  },
  {
   "cell_type": "code",
   "execution_count": 91,
   "metadata": {},
   "outputs": [
    {
     "name": "stdout",
     "output_type": "stream",
     "text": [
      "Based on the provided document array and top keywords, a possible single topic representation could be:\n",
      "\n",
      "Topic: \"Biological Transmutation of Radioactive Isotopes in Microbiological Syntrophic Associations\"\n",
      "\n",
      "This topic encompasses the keywords \"association,\" \"isotope,\" and \"biomass\" from the top keywords list. It relates to the research papers' focus on the transmutation of stable and radioactive isotopes using microbiological cultures and syntrophic associations. The specific examples mentioned in the document array include the transmutation of Cs137 and Sr90 isotopes to stable analogs. The utilization of radionuclides and the role of biological systems in nuclear reactions are also mentioned.\n",
      "Based on the provided document array and top keywords, a possible single topic representation could be \"Transmutation and Excess Heat in Cold Fusion\". This topic encompasses the keywords 'he' (representing helium, a product of fusion), 'femto' (related to femto-atoms and femto-molecules, which are mentioned in the context of transmutation), 'ni' (representing nickel, which is mentioned in the context of transmutation), 'decay' (referring to beta decay, which is mentioned in relation to transmutation), 'sn' (not explicitly mentioned in the given documents), and 'pd' (representing palladium, which is mentioned in the context of transmutation and excess heat).\n",
      "Based on the provided document array and top keywords, a possible single topic representation could be:\n",
      "\n",
      "Topic: Investigation of Excess Power Generation and Surface Characterization Techniques in Electrochemical Systems\n",
      "\n",
      "This topic encompasses the keywords 'excess power', 'fib', 'nano', 'electrolyte', 'application', and 'cop', which are relevant to the documents in the array. The topic involves the study of excess heat generation in electrochemical systems, specifically focusing on the use of surface characterization techniques such as Focused Ion Beam (FIB) and Nanoindentation. The documents in the array discuss the effectiveness of the integrated approach for high-resolution surface characterization, the search for excess heat in plasma electrolysis, and the analysis of electromagnetic emission associated with heat production during electrochemical loading of deuterium into palladium.\n",
      "Based on the provided document array and top keywords, a possible single topic representation could be:\n",
      "\n",
      "Topic: \"Charged Particle Emission and Nuclear Reactions in Pd/PdO:Dx and TiD Targets\"\n",
      "\n",
      "This topic encompasses the research papers' focus on the emission of charged particles (such as protons and alpha particles) and the investigation of nuclear reactions in Pd/PdO:Dx and TiD targets. The documents discuss the experimental observations of energetic particle emissions during electron beam excitation, the absence of nuclear emissions without e-beam stimulation, and the theoretical predictions regarding electron excitation of the deuterium subsystem in Pd-deuterides. The use of CR-39 plastic track detectors and metal foil filters is also mentioned in the context of detecting and identifying these charged particles.\n",
      "Based on the provided document array and top keywords, a possible single topic representation could be:\n",
      "\n",
      "\"Characteristics and Effects of High-Current Glow Discharge and X-ray Emissions in Solid-State Cathode Medium\"\n",
      "\n",
      "This representation captures the main focus of the documents, which include discussions on the discharge current, X-ray emissions, and the solid-state cathode medium. It also incorporates the keywords \"laser\" and \"bursts\" to indicate the presence of laser beams and bursts in the X-ray emissions.\n"
     ]
    }
   ],
   "source": [
    "# Generating Topic Representation for Doc2Vec Embeddings Keywords\n",
    "for clusterNumber in range(len(doc2Vecdf['Cluster number'])):\n",
    "    prompt = \"I have a cluster of documents in the form of an array that is comprised of the titles and abstracts of multiple research papers appended together. The document array is {}. Along with this input, I have the top keywords extracted by reading the entire set of these documents in an array: {}. Can you give me a single topic representation from this data using the top keywords and the document arrays provided as the input?\".format(doc2Vecdf['Representative Documents'][clusterNumber], doc2Vecdf['Top Keywords'][clusterNumber])\n",
    "    response = get_completion(prompt)\n",
    "    print(response)"
   ]
  },
  {
   "cell_type": "markdown",
   "metadata": {},
   "source": [
    "#### Universal Sentence Encoder Embeddings Topic Representations"
   ]
  },
  {
   "cell_type": "code",
   "execution_count": null,
   "metadata": {},
   "outputs": [],
   "source": [
    "# Generating Topic Representation for Universal Sentence Encoder Embeddings Keywords\n",
    "for clusterNumber in range(len(sentenceEncoderdf['Cluster number'])):\n",
    "    prompt = \"I have a cluster of documents in the form of an array that is comprised of the titles and abstracts of multiple research papers appended together. The document array is {}. Along with this input, I have the top keywords extracted by reading the entire set of these documents in an array: {}. Can you give me a single topic representation from this data using the top keywords and the document arrays provided as the input?\".format(sentenceEncoderdf['Representative Documents'][clusterNumber], sentenceEncoderdf['Top Keywords'][clusterNumber])\n",
    "    response = get_completion(prompt)\n",
    "    print(response)"
   ]
  }
 ],
 "metadata": {
  "kernelspec": {
   "display_name": "base",
   "language": "python",
   "name": "python3"
  },
  "language_info": {
   "codemirror_mode": {
    "name": "ipython",
    "version": 3
   },
   "file_extension": ".py",
   "mimetype": "text/x-python",
   "name": "python",
   "nbconvert_exporter": "python",
   "pygments_lexer": "ipython3",
   "version": "3.11.5"
  },
  "orig_nbformat": 4
 },
 "nbformat": 4,
 "nbformat_minor": 2
}
